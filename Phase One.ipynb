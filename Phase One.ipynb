{
 "cells": [
  {
   "cell_type": "code",
   "execution_count": 2,
   "metadata": {},
   "outputs": [],
   "source": [
    "import os\n",
    "import numpy as np\n",
    "import pandas as pd\n",
    "\n",
    "import seaborn as sns\n",
    "import plotly.express as px \n",
    "import matplotlib.pyplot as plt\n",
    "%matplotlib inline\n",
    "\n",
    "from sklearn.cluster import KMeans\n",
    "from sklearn.preprocessing import StandardScaler\n",
    "from sklearn.pipeline import Pipeline\n",
    "from sklearn.manifold import TSNE\n",
    "from sklearn.decomposition import PCA\n",
    "from sklearn.metrics import euclidean_distances\n",
    "from scipy.spatial.distance import cdist\n",
    "\n",
    "import warnings\n",
    "warnings.filterwarnings(\"ignore\")"
   ]
  },
  {
   "cell_type": "markdown",
   "metadata": {},
   "source": [
    "# **Read Data**"
   ]
  },
  {
   "cell_type": "code",
   "execution_count": 3,
   "metadata": {},
   "outputs": [],
   "source": [
    "data = pd.read_csv(\"data.csv\")\n",
    "genre_data = pd.read_csv('data_by_genres.csv')\n",
    "year_data = pd.read_csv('data_by_year.csv')\n",
    "artist_data = pd.read_csv('data_by_artist.csv')"
   ]
  },
  {
   "cell_type": "code",
   "execution_count": 4,
   "metadata": {},
   "outputs": [
    {
     "name": "stdout",
     "output_type": "stream",
     "text": [
      "First two rows of data:\n",
      "   valence  year  acousticness  \\\n",
      "0   0.0594  1921         0.982   \n",
      "1   0.9630  1921         0.732   \n",
      "\n",
      "                                             artists  danceability  \\\n",
      "0  ['Sergei Rachmaninoff', 'James Levine', 'Berli...         0.279   \n",
      "1                                     ['Dennis Day']         0.819   \n",
      "\n",
      "   duration_ms  energy  explicit                      id  instrumentalness  \\\n",
      "0       831667   0.211         0  4BJqT0PrAfrxzMOxytFOIz             0.878   \n",
      "1       180533   0.341         0  7xPhfUan2yNtyFG0cUWkt8             0.000   \n",
      "\n",
      "   key  liveness  loudness  mode  \\\n",
      "0   10     0.665   -20.096     1   \n",
      "1    7     0.160   -12.441     1   \n",
      "\n",
      "                                                name  popularity release_date  \\\n",
      "0  Piano Concerto No. 3 in D Minor, Op. 30: III. ...           4         1921   \n",
      "1                            Clancy Lowered the Boom           5         1921   \n",
      "\n",
      "   speechiness   tempo  \n",
      "0       0.0366  80.954  \n",
      "1       0.4150  60.936  \n",
      "\n",
      "First two rows of genre_data:\n",
      "   mode                  genres  acousticness  danceability   duration_ms  \\\n",
      "0     1  21st century classical      0.979333      0.162883  1.602977e+05   \n",
      "1     1                   432hz      0.494780      0.299333  1.048887e+06   \n",
      "\n",
      "     energy  instrumentalness  liveness   loudness  speechiness       tempo  \\\n",
      "0  0.071317          0.606834    0.3616 -31.514333     0.040567   75.336500   \n",
      "1  0.450678          0.477762    0.1310 -16.854000     0.076817  120.285667   \n",
      "\n",
      "    valence  popularity  key  \n",
      "0  0.103783   27.833333    6  \n",
      "1  0.221750   52.500000    5  \n",
      "\n",
      "First two rows of year_data:\n",
      "   mode  year  acousticness  danceability    duration_ms    energy  \\\n",
      "0     1  1921      0.886896      0.418597  260537.166667  0.231815   \n",
      "1     1  1922      0.938592      0.482042  165469.746479  0.237815   \n",
      "\n",
      "   instrumentalness  liveness   loudness  speechiness       tempo   valence  \\\n",
      "0          0.344878   0.20571 -17.048667     0.073662  101.531493  0.379327   \n",
      "1          0.434195   0.24072 -19.275282     0.116655  100.884521  0.535549   \n",
      "\n",
      "   popularity  key  \n",
      "0    0.653333    2  \n",
      "1    0.140845   10  \n",
      "\n",
      "First two rows of artist_data:\n",
      "   mode  count  acousticness                           artists  danceability  \\\n",
      "0     1      9      0.590111  \"Cats\" 1981 Original London Cast      0.467222   \n",
      "1     1     26      0.862538         \"Cats\" 1983 Broadway Cast      0.441731   \n",
      "\n",
      "     duration_ms    energy  instrumentalness  liveness  loudness  speechiness  \\\n",
      "0  250318.555556  0.394003          0.011400  0.290833   -14.448     0.210389   \n",
      "1  287280.000000  0.406808          0.081158  0.315215   -10.690     0.176212   \n",
      "\n",
      "        tempo   valence  popularity  key  \n",
      "0  117.518111  0.389500   38.333333    5  \n",
      "1  103.044154  0.268865   30.576923    5  \n"
     ]
    }
   ],
   "source": [
    "# Display the first two rows of each dataframe\n",
    "print(\"First two rows of data:\")\n",
    "print(data.head(2))\n",
    "\n",
    "print(\"\\nFirst two rows of genre_data:\")\n",
    "print(genre_data.head(2))\n",
    "\n",
    "print(\"\\nFirst two rows of year_data:\")\n",
    "print(year_data.head(2))\n",
    "\n",
    "print(\"\\nFirst two rows of artist_data:\")\n",
    "print(artist_data.head(2))"
   ]
  },
  {
   "cell_type": "code",
   "execution_count": 5,
   "metadata": {},
   "outputs": [
    {
     "name": "stdout",
     "output_type": "stream",
     "text": [
      "\n",
      "Info for data:\n",
      "<class 'pandas.core.frame.DataFrame'>\n",
      "RangeIndex: 170653 entries, 0 to 170652\n",
      "Data columns (total 19 columns):\n",
      " #   Column            Non-Null Count   Dtype  \n",
      "---  ------            --------------   -----  \n",
      " 0   valence           170653 non-null  float64\n",
      " 1   year              170653 non-null  int64  \n",
      " 2   acousticness      170653 non-null  float64\n",
      " 3   artists           170653 non-null  object \n",
      " 4   danceability      170653 non-null  float64\n",
      " 5   duration_ms       170653 non-null  int64  \n",
      " 6   energy            170653 non-null  float64\n",
      " 7   explicit          170653 non-null  int64  \n",
      " 8   id                170653 non-null  object \n",
      " 9   instrumentalness  170653 non-null  float64\n",
      " 10  key               170653 non-null  int64  \n",
      " 11  liveness          170653 non-null  float64\n",
      " 12  loudness          170653 non-null  float64\n",
      " 13  mode              170653 non-null  int64  \n",
      " 14  name              170653 non-null  object \n",
      " 15  popularity        170653 non-null  int64  \n",
      " 16  release_date      170653 non-null  object \n",
      " 17  speechiness       170653 non-null  float64\n",
      " 18  tempo             170653 non-null  float64\n",
      "dtypes: float64(9), int64(6), object(4)\n",
      "memory usage: 24.7+ MB\n",
      "\n",
      "Info for genre_data:\n",
      "<class 'pandas.core.frame.DataFrame'>\n",
      "RangeIndex: 2973 entries, 0 to 2972\n",
      "Data columns (total 14 columns):\n",
      " #   Column            Non-Null Count  Dtype  \n",
      "---  ------            --------------  -----  \n",
      " 0   mode              2973 non-null   int64  \n",
      " 1   genres            2973 non-null   object \n",
      " 2   acousticness      2973 non-null   float64\n",
      " 3   danceability      2973 non-null   float64\n",
      " 4   duration_ms       2973 non-null   float64\n",
      " 5   energy            2973 non-null   float64\n",
      " 6   instrumentalness  2973 non-null   float64\n",
      " 7   liveness          2973 non-null   float64\n",
      " 8   loudness          2973 non-null   float64\n",
      " 9   speechiness       2973 non-null   float64\n",
      " 10  tempo             2973 non-null   float64\n",
      " 11  valence           2973 non-null   float64\n",
      " 12  popularity        2973 non-null   float64\n",
      " 13  key               2973 non-null   int64  \n",
      "dtypes: float64(11), int64(2), object(1)\n",
      "memory usage: 325.3+ KB\n"
     ]
    }
   ],
   "source": [
    "# Display information about data\n",
    "print(\"\\nInfo for data:\")\n",
    "data.info()\n",
    "\n",
    "# Display information about genre_data\n",
    "print(\"\\nInfo for genre_data:\")\n",
    "genre_data.info()"
   ]
  },
  {
   "cell_type": "code",
   "execution_count": 6,
   "metadata": {},
   "outputs": [
    {
     "name": "stdout",
     "output_type": "stream",
     "text": [
      "\n",
      "First few rows of data with 'decade' column:\n",
      "   year  decade\n",
      "0  1921    1920\n",
      "1  1921    1920\n",
      "2  1921    1920\n",
      "3  1921    1920\n",
      "4  1921    1920\n"
     ]
    }
   ],
   "source": [
    "# Create a new 'decade' column in data\n",
    "data['decade'] = data['year'].apply(lambda x: (x // 10) * 10)\n",
    "\n",
    "# Display the first few rows to confirm the change\n",
    "print(\"\\nFirst few rows of data with 'decade' column:\")\n",
    "print(data[['year', 'decade']].head(5))"
   ]
  }
 ],
 "metadata": {
  "kernelspec": {
   "display_name": "base",
   "language": "python",
   "name": "python3"
  },
  "language_info": {
   "codemirror_mode": {
    "name": "ipython",
    "version": 3
   },
   "file_extension": ".py",
   "mimetype": "text/x-python",
   "name": "python",
   "nbconvert_exporter": "python",
   "pygments_lexer": "ipython3",
   "version": "3.11.7"
  }
 },
 "nbformat": 4,
 "nbformat_minor": 2
}
